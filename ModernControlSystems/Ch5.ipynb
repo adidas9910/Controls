{
 "cells": [
  {
   "cell_type": "code",
   "execution_count": 1,
   "metadata": {},
   "outputs": [],
   "source": [
    "# Author: ChangYuan Liu (changyuan.liu@gmail.com)\n",
    "# Date: 2019-12-17\n",
    "# Page 357\n",
    "# Compute step response for a second-order system\n",
    "# Duplicate Figure 5.5 (a)\n",
    "import numpy as np\n",
    "import control.matlab as cm\n",
    "import matplotlib.pyplot as plt\n",
    "import scipy.linalg as splg\n",
    "%matplotlib inline\n",
    "\n"
   ]
  },
  {
   "cell_type": "code",
   "execution_count": null,
   "metadata": {},
   "outputs": [],
   "source": []
  }
 ],
 "metadata": {
  "kernelspec": {
   "display_name": "Python 3",
   "language": "python",
   "name": "python3"
  },
  "language_info": {
   "codemirror_mode": {
    "name": "ipython",
    "version": 3
   },
   "file_extension": ".py",
   "mimetype": "text/x-python",
   "name": "python",
   "nbconvert_exporter": "python",
   "pygments_lexer": "ipython3",
   "version": "3.8.3"
  }
 },
 "nbformat": 4,
 "nbformat_minor": 4
}
